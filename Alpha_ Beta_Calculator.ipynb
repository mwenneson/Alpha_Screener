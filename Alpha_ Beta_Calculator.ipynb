{
 "cells": [
  {
   "cell_type": "code",
   "execution_count": null,
   "metadata": {},
   "outputs": [],
   "source": [
    "#import yfinance (can also be installed via a terminal)\n",
    "import pip\n",
    "package_name=['yfinance'] #packages to install\n",
    "pip.main(['install'] + package_name + ['--upgrade']) "
   ]
  },
  {
   "cell_type": "code",
   "execution_count": 13,
   "metadata": {},
   "outputs": [],
   "source": [
    "#Install Packages\n",
    "import pandas as pd\n",
    "import matplotlib.pyplot as plt\n",
    "import numpy as np\n",
    "import datetime\n",
    "import seaborn as sns\n",
    "import warnings\n",
    "import yfinance as yf\n",
    "import seaborn as sns; sns.set()\n",
    "import statsmodels.api as sm\n",
    "yf.pdr_override()\n",
    "%matplotlib inline\n",
    "warnings.filterwarnings('ignore')"
   ]
  },
  {
   "cell_type": "code",
   "execution_count": 14,
   "metadata": {},
   "outputs": [
    {
     "name": "stdout",
     "output_type": "stream",
     "text": [
      "NumExpr defaulting to 8 threads.\n",
      "[*********************100%***********************]  2 of 2 completed\n"
     ]
    }
   ],
   "source": [
    "#Select Stock Ticker to Compare with S&P 500. \n",
    "#Replace'CMCSA' with desired ticker symbol to download monthly data from Yahoo Finance.\n",
    "stocks = ['CMCSA', '^GSPC']\n",
    "start  = datetime.datetime(2016,1,1)\n",
    "end = datetime.datetime(2021,4,1)\n",
    "stock_prices = yf.download(stocks, start=start, end = end, interval = '1mo')"
   ]
  },
  {
   "cell_type": "code",
   "execution_count": 15,
   "metadata": {},
   "outputs": [],
   "source": [
    "#Select Closing Prices Only \n",
    "stock_prices = stock_prices['Close']\n",
    "stock_prices.dropna(inplace = True)"
   ]
  },
  {
   "cell_type": "code",
   "execution_count": 21,
   "metadata": {},
   "outputs": [],
   "source": [
    "#Calculate monthly Returns\n",
    "returns=stock_prices.pct_change()\n",
    "returns.dropna(inplace=True)"
   ]
  },
  {
   "cell_type": "code",
   "execution_count": 17,
   "metadata": {},
   "outputs": [],
   "source": [
    "#Install Fred API.  Obtain FRED API Key from FRED website.  Registration required at https://research.stlouisfed.org/useraccount/login/secure/\n",
    "from fredapi import Fred\n",
    "fred = Fred(api_key ='My API Key')\n"
   ]
  },
  {
   "cell_type": "code",
   "execution_count": 18,
   "metadata": {
    "jupyter": {
     "source_hidden": true
    }
   },
   "outputs": [],
   "source": [
    "#Obtain Risk Free rate.  3-Month Treasury Bill used below for risk-free rate.\n",
    "risk_free = fred.get_series('DGS3MO')\n",
    "risk_free = risk_free['2016-01-01':'2021-04-01']\n",
    "rf = risk_free/3"
   ]
  },
  {
   "cell_type": "code",
   "execution_count": 22,
   "metadata": {},
   "outputs": [],
   "source": [
    "#Calculate Excess Returns above the 3 month T-Bill risk-free rate.  Note: replace 'CMCSA' with desired ticker.\n",
    "stocks = ['CMCSA', '^GSPC']\n",
    "for i in stocks:\n",
    "    returns['excess_return_'+str(i)] = returns[i] - rf"
   ]
  },
  {
   "cell_type": "code",
   "execution_count": 24,
   "metadata": {},
   "outputs": [],
   "source": [
    "#Conduct Linear Regression. Note: Replace 'CMCSA' with Ticker Sympbol\n",
    "returns.dropna(inplace = True)\n",
    "y = returns['excess_return_CMCSA']\n",
    "x = returns['excess_return_^GSPC']\n",
    "x=sm.add_constant(x, prepend = False)\n",
    "CAPM = sm.OLS(y, x)\n",
    "CAPM_results= CAPM.fit()"
   ]
  },
  {
   "cell_type": "code",
   "execution_count": 38,
   "metadata": {},
   "outputs": [
    {
     "name": "stdout",
     "output_type": "stream",
     "text": [
      "           coef   pvalue\n",
      "Beta   0.971693  0.00000\n",
      "Alpha -0.005902  0.58547\n"
     ]
    }
   ],
   "source": [
    "#Extract Coefficients\n",
    "def get_coef_table(CAPM_results):\n",
    "        err_series = CAPM_results.params - CAPM_results.conf_int()[0]\n",
    "        coef_df = pd.DataFrame({'coef': CAPM_results.params.values[0:],\n",
    "                                'pvalue':CAPM_results.pvalues.round(5).values[0:]})\n",
    "        coef_df = coef_df.rename(index={0: 'Beta', 1:'Alpha'})\n",
    "        return coef_df\n",
    "print(get_coef_table(CAPM_results))"
   ]
  },
  {
   "cell_type": "code",
   "execution_count": null,
   "metadata": {},
   "outputs": [],
   "source": []
  },
  {
   "cell_type": "code",
   "execution_count": null,
   "metadata": {},
   "outputs": [],
   "source": []
  }
 ],
 "metadata": {
  "kernelspec": {
   "display_name": "Python 3",
   "language": "python",
   "name": "python3"
  },
  "language_info": {
   "codemirror_mode": {
    "name": "ipython",
    "version": 3
   },
   "file_extension": ".py",
   "mimetype": "text/x-python",
   "name": "python",
   "nbconvert_exporter": "python",
   "pygments_lexer": "ipython3",
   "version": "3.8.5"
  }
 },
 "nbformat": 4,
 "nbformat_minor": 4
}
